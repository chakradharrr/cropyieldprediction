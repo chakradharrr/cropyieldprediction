{
 "cells": [
  {
   "cell_type": "code",
   "execution_count": null,
   "id": "64b8a6be",
   "metadata": {},
   "outputs": [
    {
     "name": "stdout",
     "output_type": "stream",
     "text": [
      " * Serving Flask app '__main__'\n",
      " * Debug mode: off\n"
     ]
    },
    {
     "name": "stderr",
     "output_type": "stream",
     "text": [
      "WARNING: This is a development server. Do not use it in a production deployment. Use a production WSGI server instead.\n",
      " * Running on all addresses (0.0.0.0)\n",
      " * Running on http://127.0.0.1:5000\n",
      " * Running on http://192.168.29.10:5000\n",
      "Press CTRL+C to quit\n"
     ]
    }
   ],
   "source": [
    "from flask import Flask, request, url_for, redirect, render_template\n",
    "import pickle\n",
    "import numpy as np\n",
    "app=Flask(\"name\")\n",
    "m=pickle.load(open(\"model.pkl\",\"rb\"))\n",
    "\n",
    "@app.route(\"/\")\n",
    "def home():\n",
    "    return render_template(\"home.html\")\n",
    "\n",
    "@app.route(\"/yield\")\n",
    "def Yield():\n",
    "    return render_template(\"yield.html\")\n",
    "@app.route(\"/data\")\n",
    "def data():\n",
    "    return render_template(\"data.html\")\n",
    "@app.route(\"/blog\")\n",
    "def blog():\n",
    "    return render_template(\"blog.html\")\n",
    "@app.route(\"/predict\",methods=[\"POST\",\"GET\"])\n",
    "def predict():\n",
    "    d=request.form\n",
    "    districts=['District_Adilabad', 'District_Bhadradri Kothagudem', 'District_Jagtial', 'District_Jangoan',\n",
    "                 'District_Jayashankar Bhoopalpally', 'District_Jogulamba Gadwal', 'District_Kamareddy',\n",
    "                 'District_Karimnagar', 'District_Khammam', 'District_Komaram bheem asifabad', 'District_Mahabubabad',\n",
    "                 'District_Mahabubnagar', 'District_Mancherial', 'District_Medak', 'District_Medchal-Malkajgiri',\n",
    "                 'District_Mulug', 'District_Nagarkurnool', 'District_Nalgonda', 'District_Narayanpet',\n",
    "                 'District_Nirmal', 'District_Nizamabad', 'District_Peddapalli', 'District_Rajanna Sircilla',\n",
    "                 'District_Rangareddy', 'District_Sangareddy', 'District_Siddipet', 'District_Suryapet',\n",
    "                 'District_Vikarabad', 'District_Wanaparthy', 'District_Warangal', 'District_Hanumakonda',\n",
    "                 'District_Yadadri Bhuvanagiri']\n",
    "    dis=[0]*32\n",
    "    dis[districts.index(d[\"district\"])]=1\n",
    "    season=[0,0]\n",
    "    if(d[\"season\"]==\"Season_Kharif\"):\n",
    "        season[0]=1\n",
    "    else:\n",
    "        season[1]=1\n",
    "    crops=['Crop_Groundnut', 'Crop_Maize','Crop_Moong(Green Gram)', 'Crop_Rice', 'Crop_cotton(lint)']\n",
    "    crop=[0]*5\n",
    "    #crop[crops.index(d['crop'])]=1\n",
    "    for i in range(len(crops)):\n",
    "        if crops[i]==d[\"crop\"]:\n",
    "            crop[i]=1\n",
    "    l=list(d.values())\n",
    "    r=l[3:]\n",
    "    l1=r+dis+season+crop\n",
    "    a=np.array([l1])\n",
    "    a = np.array(a, dtype=float)\n",
    "    print(a)\n",
    "    out = m.predict(a)\n",
    "\n",
    "    out=round(out[0],2)\n",
    "    if d['crop']=='Crop_cotton(lint)':\n",
    "        return render_template(\"yield.html\",out=f\"Predicted Yield of {d['crop'][5:]} is  {out}  bales/hectare\")\n",
    "    else:\n",
    "        return render_template(\"yield.html\",out=f\"Predicted Yield of {d['crop'][5:]} is  {out}  tones/hectare\")\n",
    "\n",
    "app.run(host=\"0.0.0.0\", port=5000)"
   ]
  },
  {
   "cell_type": "code",
   "execution_count": null,
   "id": "72080814",
   "metadata": {},
   "outputs": [],
   "source": []
  },
  {
   "cell_type": "code",
   "execution_count": null,
   "id": "008504ff",
   "metadata": {},
   "outputs": [],
   "source": []
  }
 ],
 "metadata": {
  "kernelspec": {
   "display_name": "Python 3 (ipykernel)",
   "language": "python",
   "name": "python3"
  },
  "language_info": {
   "codemirror_mode": {
    "name": "ipython",
    "version": 3
   },
   "file_extension": ".py",
   "mimetype": "text/x-python",
   "name": "python",
   "nbconvert_exporter": "python",
   "pygments_lexer": "ipython3",
   "version": "3.10.4"
  }
 },
 "nbformat": 4,
 "nbformat_minor": 5
}
