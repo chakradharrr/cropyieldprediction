{
 "cells": [
  {
   "cell_type": "code",
   "execution_count": 3,
   "id": "26ea6cd2",
   "metadata": {},
   "outputs": [
    {
     "data": {
      "text/plain": [
       "Index(['Unnamed: 0.1', 'Unnamed: 0', 'S.No', 'Rainfall(mm)',\n",
       "       'Minimum Temparature(C)', 'Maximum Temperature (C)', 'Ph',\n",
       "       'N(Kg/Hectar)', 'P(Kg/Hectar)', 'K(Kg/Hectar)', 'Zn(ppm)', 'Fe(ppm)',\n",
       "       'Cu(ppm)', 'Mn(ppm)', 'Irrigation(MBGL)', 'Yield (Bales/Hectare)',\n",
       "       'District_Adilabad', 'District_Bhadradri', 'District_Jagitial',\n",
       "       'District_Jangoan', 'District_Jayashankar', 'District_Jogulamba',\n",
       "       'District_Kamareddy', 'District_Karimnagar', 'District_Khammam',\n",
       "       'District_Komaram bheem asifabad', 'District_Mahabubabad',\n",
       "       'District_Mahbubnagar', 'District_Mancherial', 'District_Medak',\n",
       "       'District_Medchal', 'District_Mulugu', 'District_Nagarkurnool',\n",
       "       'District_Nalgonda', 'District_Narayanapet', 'District_Nirmal',\n",
       "       'District_Nizamabad', 'District_Peddapalli', 'District_Rajanna',\n",
       "       'District_Rangareddy', 'District_Sangareddy', 'District_Siddipet',\n",
       "       'District_Suryapet', 'District_Vikarabad', 'District_Wanaparthy',\n",
       "       'District_Warangal', 'District_Warangal urban', 'District_Yadadri',\n",
       "       'Year_2014 - 2015', 'Year_2015 - 2016', 'Year_2016 - 2017',\n",
       "       'Year_2017 - 2018', 'Year_2018 - 2019', 'Year_2019 - 2020',\n",
       "       'Season_Kharif', 'Season_rabi', 'Crop_Groundnut', 'Crop_Maize',\n",
       "       'Crop_Moong(Green Gram)', 'Crop_Rice', 'Crop_cotton(lint)'],\n",
       "      dtype='object')"
      ]
     },
     "execution_count": 3,
     "metadata": {},
     "output_type": "execute_result"
    }
   ],
   "source": [
    "import pandas as pd\n",
    "import json\n",
    "\n",
    "# Load the dataset into a pandas DataFrame\n",
    "df = pd.read_excel('FINAL.xlsx')\n",
    "\n",
    "# Group the data by district and calculate the mean for each attribute\n",
    "df.columns"
   ]
  },
  {
   "cell_type": "code",
   "execution_count": null,
   "id": "f5a3898b",
   "metadata": {},
   "outputs": [],
   "source": [
    "mean_values = df.groupby('district').mean()\n",
    "\n",
    "# Convert the mean values DataFrame to a dictionary\n",
    "default_attributes = mean_values.to_dict(orient='index')\n",
    "\n",
    "# Save the default_attributes dictionary as JSON\n",
    "with open('default_attributes.json', 'w') as file:\n",
    "    json.dump(default_attributes, file, indent=4)\n"
   ]
  }
 ],
 "metadata": {
  "kernelspec": {
   "display_name": "Python 3 (ipykernel)",
   "language": "python",
   "name": "python3"
  },
  "language_info": {
   "codemirror_mode": {
    "name": "ipython",
    "version": 3
   },
   "file_extension": ".py",
   "mimetype": "text/x-python",
   "name": "python",
   "nbconvert_exporter": "python",
   "pygments_lexer": "ipython3",
   "version": "3.10.4"
  }
 },
 "nbformat": 4,
 "nbformat_minor": 5
}
